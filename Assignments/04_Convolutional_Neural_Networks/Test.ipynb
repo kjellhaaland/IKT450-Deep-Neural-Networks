{
 "cells": [
  {
   "cell_type": "code",
   "execution_count": 1,
   "id": "77623487-fbc6-446c-a984-0d93b2e4272d",
   "metadata": {},
   "outputs": [],
   "source": [
    "import os\n",
    "from torchvision.io import read_image\n",
    "from torch.utils.data import Dataset\n",
    "from PIL import Image\n",
    "\n",
    "# Custom dataset that inherits from \n",
    "class Food11Dataset(Dataset):\n",
    "    def __init__(self, dir, transform=None):\n",
    "        self.dir = dir\n",
    "        self.transform = transform\n",
    "        self.file_list = [file for file in os.listdir(dir) if file.endswith('.jpg')]\n",
    "\n",
    "    def __len__(self):\n",
    "        return len(self.file_list)\n",
    "\n",
    "    def __getitem__(self, idx):\n",
    "        path = os.path.join(self.dir, self.file_list[idx])\n",
    "        \n",
    "        image = Image.open(path)\n",
    "\n",
    "        if self.transform:\n",
    "            image = self.transform(image)\n",
    "\n",
    "        label = int(self.file_list[idx].split('_')[0])\n",
    "\n",
    "        return image, label"
   ]
  },
  {
   "cell_type": "code",
   "execution_count": 2,
   "id": "40875679-a5b1-4a0a-89c6-a9ebfc397074",
   "metadata": {},
   "outputs": [],
   "source": [
    "import torch.nn as nn\n",
    "import torch.nn.functional as F\n",
    "\n",
    "class Network(nn.Module):\n",
    "\n",
    "    def __init__(self):\n",
    "        super(Network, self).__init__()\n",
    "        \n",
    "        self.conv1 = nn.Conv2d(3, 6, 8)\n",
    "        self.pool = nn.MaxPool2d(2, 2)\n",
    "        self.conv2 = nn.Conv2d(6, 16, 8)\n",
    "\n",
    "        self.fc1 = nn.Linear(16 * 58 * 58, 120)\n",
    "        self.fc2 = nn.Linear(120, 84)\n",
    "        self.fc3 = nn.Linear(84, 11)\n",
    "\n",
    "    def forward(self, x):\n",
    "        x = self.conv1(x)\n",
    "        x = F.relu(x)\n",
    "        #print(f\"conv1: {x.shape}\")\n",
    "    \n",
    "        x = self.pool(x)\n",
    "        #print(f\"pool: {x.shape}\")\n",
    "\n",
    "        x = self.conv2(x)\n",
    "        x = F.relu(x)\n",
    "        #print(f\"conv2: {x.shape}\")\n",
    "\n",
    "        x = self.pool(x)\n",
    "        #print(f\"pool: {x.shape}\")\n",
    "\n",
    "        # -1 means that pytorch will find it automatically\n",
    "        x = x.view(-1, 16 * 58 * 58)\n",
    "\n",
    "        x = self.fc1(x)\n",
    "        x = F.relu(x)\n",
    "        #print(f\"fc1: {x.shape}\")\n",
    "\n",
    "        x = self.fc2(x)\n",
    "        x = F.relu(x)\n",
    "        #print(f\"fc2: {x.shape}\")\n",
    "\n",
    "        x = self.fc3(x)\n",
    "        #print(f\"fc3: {x.shape}\")\n",
    "\n",
    "        return x"
   ]
  },
  {
   "cell_type": "code",
   "execution_count": 6,
   "id": "8207cc5f-c243-4849-a193-73a945f4256c",
   "metadata": {},
   "outputs": [],
   "source": [
    "import torchvision.transforms as transforms\n",
    "from torch.utils.data import DataLoader\n",
    "\n",
    "transform = transforms.Compose([\n",
    "    transforms.Resize((256,256)),\n",
    "    transforms.ToTensor(),\n",
    "    transforms.Normalize((0.5, 0.5, 0.5), (0.5, 0.5, 0.5))\n",
    "])\n",
    "\n",
    "training_data = Food11Dataset('food11/training', transform=transform)\n",
    "\n",
    "validate_data = Food11Dataset('food11/validation', transform=transform)\n",
    "\n",
    "train_dataloader = DataLoader(training_data, batch_size=64, shuffle=True)\n",
    "\n",
    "validate_dataloader = DataLoader(validate_data, batch_size=64, shuffle=True)\n",
    "\n",
    "classes = ('Bread', 'Dairy product', 'Dessert', 'Egg', 'Fried food', 'Meat', 'Noodles/Pasta', \n",
    "           'Rice', 'Seafood','Soup', 'Vegetable/Fruit')    "
   ]
  },
  {
   "cell_type": "code",
   "execution_count": 9,
   "id": "9cc704b4-db42-4b8f-8a6f-c981b6c6b29e",
   "metadata": {},
   "outputs": [
    {
     "name": "stderr",
     "output_type": "stream",
     "text": [
      "100%|██████████| 54/54 [52:49<00:00, 58.69s/it]"
     ]
    },
    {
     "name": "stdout",
     "output_type": "stream",
     "text": [
      "Accuracy of the network on the validation images: 37.7259%\n"
     ]
    },
    {
     "name": "stderr",
     "output_type": "stream",
     "text": [
      "\n"
     ]
    }
   ],
   "source": [
    "# Test the network on the validation data\n",
    "import torch\n",
    "from tqdm import tqdm\n",
    "\n",
    "DEVICE = torch.device('cuda' if torch.cuda.is_available() else 'cpu')\n",
    "\n",
    "def test(model, dataloader):\n",
    "\n",
    "    correct = 0\n",
    "    total = 0\n",
    "\n",
    "    with torch.no_grad():\n",
    "        for images, labels in tqdm(dataloader):\n",
    "            images = images.to(DEVICE)\n",
    "            labels = labels.to(DEVICE)\n",
    "\n",
    "            outputs = model(images)\n",
    "            _, predicted = torch.max(outputs.data, 1)\n",
    "\n",
    "            total += labels.size(0)\n",
    "            correct += (predicted == labels).sum().item()\n",
    "\n",
    "    accuracy = 100 * correct / total\n",
    "\n",
    "    return accuracy\n",
    "\n",
    "\n",
    "# Run the tests\n",
    "model = Network().to(DEVICE)\n",
    "model.load_state_dict(torch.load('last.pth'))\n",
    "\n",
    "accuracy = test(model, validate_dataloader)\n",
    "print(f\"Accuracy of the network on the validation images: {accuracy:.4f}%\")\n"
   ]
  },
  {
   "cell_type": "code",
   "execution_count": 1,
   "metadata": {},
   "outputs": [
    {
     "data": {
      "image/png": "[encoded data removed]",
      "text/plain": [
       "<Figure size 640x480 with 1 Axes>"
      ]
     },
     "metadata": {},
     "output_type": "display_data"
    }
   ],
   "source": [
    "# Plot loss from loss.txt\n",
    "\n",
    "import matplotlib.pyplot as plt\n",
    "\n",
    "f = open(\"loss.txt\", \"r\")\n",
    "\n",
    "loss = []\n",
    "\n",
    "for x in f:\n",
    "    loss.append(float(x))\n",
    "\n",
    "\n",
    "plt.plot(loss)\n",
    "plt.xlabel('Iteration')\n",
    "plt.ylabel('Loss')\n",
    "plt.title('Loss vs Iteration')\n",
    "plt.show()\n"
   ]
  }
 ],
 "metadata": {
  "kernelspec": {
   "display_name": "Python 3 (ipykernel)",
   "language": "python",
   "name": "python3"
  },
  "language_info": {
   "codemirror_mode": {
    "name": "ipython",
    "version": 3
   },
   "file_extension": ".py",
   "mimetype": "text/x-python",
   "name": "python",
   "nbconvert_exporter": "python",
   "pygments_lexer": "ipython3",
   "version": "3.10.11"
  }
 },
 "nbformat": 4,
 "nbformat_minor": 5
}
