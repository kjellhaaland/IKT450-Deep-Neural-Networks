{
 "cells": [
  {
   "cell_type": "markdown",
   "metadata": {},
   "source": [
    "## Multilayer Perceptron using pytorch\n",
    "\n",
    "This notebook implements a multilayer perceptron using pytorch and does predictions on the ecoli dataset. \n",
    "\n",
    "View the dataset [here.](https://archive.ics.uci.edu/dataset/39/ecoli)"
   ]
  },
  {
   "cell_type": "code",
   "execution_count": 78,
   "metadata": {},
   "outputs": [
    {
     "name": "stdout",
     "output_type": "stream",
     "text": [
      "Requirement already satisfied: torch in c:\\users\\kjell\\appdata\\local\\packages\\pythonsoftwarefoundation.python.3.10_qbz5n2kfra8p0\\localcache\\local-packages\\python310\\site-packages (2.0.1)"
     ]
    },
    {
     "name": "stderr",
     "output_type": "stream",
     "text": [
      "WARNING: Ignoring invalid distribution -pencv-python (c:\\users\\kjell\\appdata\\local\\packages\\pythonsoftwarefoundation.python.3.10_qbz5n2kfra8p0\\localcache\\local-packages\\python310\\site-packages)\n",
      "WARNING: Ignoring invalid distribution -pencv-python (c:\\users\\kjell\\appdata\\local\\packages\\pythonsoftwarefoundation.python.3.10_qbz5n2kfra8p0\\localcache\\local-packages\\python310\\site-packages)\n",
      "\n",
      "[notice] A new release of pip is available: 23.2.1 -> 23.3.1\n",
      "[notice] To update, run: C:\\Users\\kjell\\AppData\\Local\\Microsoft\\WindowsApps\\PythonSoftwareFoundation.Python.3.10_qbz5n2kfra8p0\\python.exe -m pip install --upgrade pip\n"
     ]
    },
    {
     "name": "stdout",
     "output_type": "stream",
     "text": [
      "\n",
      "Requirement already satisfied: filelock in c:\\users\\kjell\\appdata\\local\\packages\\pythonsoftwarefoundation.python.3.10_qbz5n2kfra8p0\\localcache\\local-packages\\python310\\site-packages (from torch) (3.12.2)\n",
      "Requirement already satisfied: typing-extensions in c:\\users\\kjell\\appdata\\local\\packages\\pythonsoftwarefoundation.python.3.10_qbz5n2kfra8p0\\localcache\\local-packages\\python310\\site-packages (from torch) (4.7.1)\n",
      "Requirement already satisfied: sympy in c:\\users\\kjell\\appdata\\local\\packages\\pythonsoftwarefoundation.python.3.10_qbz5n2kfra8p0\\localcache\\local-packages\\python310\\site-packages (from torch) (1.12)\n",
      "Requirement already satisfied: networkx in c:\\users\\kjell\\appdata\\local\\packages\\pythonsoftwarefoundation.python.3.10_qbz5n2kfra8p0\\localcache\\local-packages\\python310\\site-packages (from torch) (3.1)\n",
      "Requirement already satisfied: jinja2 in c:\\users\\kjell\\appdata\\local\\packages\\pythonsoftwarefoundation.python.3.10_qbz5n2kfra8p0\\localcache\\local-packages\\python310\\site-packages (from torch) (3.1.2)\n",
      "Requirement already satisfied: MarkupSafe>=2.0 in c:\\users\\kjell\\appdata\\local\\packages\\pythonsoftwarefoundation.python.3.10_qbz5n2kfra8p0\\localcache\\local-packages\\python310\\site-packages (from jinja2->torch) (2.1.3)\n",
      "Requirement already satisfied: mpmath>=0.19 in c:\\users\\kjell\\appdata\\local\\packages\\pythonsoftwarefoundation.python.3.10_qbz5n2kfra8p0\\localcache\\local-packages\\python310\\site-packages (from sympy->torch) (1.3.0)\n",
      "Requirement already satisfied: pandas in c:\\users\\kjell\\appdata\\local\\packages\\pythonsoftwarefoundation.python.3.10_qbz5n2kfra8p0\\localcache\\local-packages\\python310\\site-packages (1.5.3)\n",
      "Requirement already satisfied: python-dateutil>=2.8.1 in c:\\users\\kjell\\appdata\\local\\packages\\pythonsoftwarefoundation.python.3.10_qbz5n2kfra8p0\\localcache\\local-packages\\python310\\site-packages (from pandas) (2.8.2)\n",
      "Requirement already satisfied: pytz>=2020.1 in c:\\users\\kjell\\appdata\\local\\packages\\pythonsoftwarefoundation.python.3.10_qbz5n2kfra8p0\\localcache\\local-packages\\python310\\site-packages (from pandas) (2022.7.1)\n",
      "Requirement already satisfied: numpy>=1.21.0 in c:\\users\\kjell\\appdata\\local\\packages\\pythonsoftwarefoundation.python.3.10_qbz5n2kfra8p0\\localcache\\local-packages\\python310\\site-packages (from pandas) (1.24.3)\n",
      "Requirement already satisfied: six>=1.5 in c:\\users\\kjell\\appdata\\local\\packages\\pythonsoftwarefoundation.python.3.10_qbz5n2kfra8p0\\localcache\\local-packages\\python310\\site-packages (from python-dateutil>=2.8.1->pandas) (1.16.0)\n"
     ]
    },
    {
     "name": "stderr",
     "output_type": "stream",
     "text": [
      "WARNING: Ignoring invalid distribution -pencv-python (c:\\users\\kjell\\appdata\\local\\packages\\pythonsoftwarefoundation.python.3.10_qbz5n2kfra8p0\\localcache\\local-packages\\python310\\site-packages)\n",
      "WARNING: Ignoring invalid distribution -pencv-python (c:\\users\\kjell\\appdata\\local\\packages\\pythonsoftwarefoundation.python.3.10_qbz5n2kfra8p0\\localcache\\local-packages\\python310\\site-packages)\n",
      "\n",
      "[notice] A new release of pip is available: 23.2.1 -> 23.3.1\n",
      "[notice] To update, run: C:\\Users\\kjell\\AppData\\Local\\Microsoft\\WindowsApps\\PythonSoftwareFoundation.Python.3.10_qbz5n2kfra8p0\\python.exe -m pip install --upgrade pip\n"
     ]
    },
    {
     "name": "stdout",
     "output_type": "stream",
     "text": [
      "Requirement already satisfied: numpy in c:\\users\\kjell\\appdata\\local\\packages\\pythonsoftwarefoundation.python.3.10_qbz5n2kfra8p0\\localcache\\local-packages\\python310\\site-packages (1.24.3)\n"
     ]
    },
    {
     "name": "stderr",
     "output_type": "stream",
     "text": [
      "WARNING: Ignoring invalid distribution -pencv-python (c:\\users\\kjell\\appdata\\local\\packages\\pythonsoftwarefoundation.python.3.10_qbz5n2kfra8p0\\localcache\\local-packages\\python310\\site-packages)\n",
      "WARNING: Ignoring invalid distribution -pencv-python (c:\\users\\kjell\\appdata\\local\\packages\\pythonsoftwarefoundation.python.3.10_qbz5n2kfra8p0\\localcache\\local-packages\\python310\\site-packages)\n",
      "\n",
      "[notice] A new release of pip is available: 23.2.1 -> 23.3.1\n",
      "[notice] To update, run: C:\\Users\\kjell\\AppData\\Local\\Microsoft\\WindowsApps\\PythonSoftwareFoundation.Python.3.10_qbz5n2kfra8p0\\python.exe -m pip install --upgrade pip\n"
     ]
    }
   ],
   "source": [
    "# Install the required dependencies\n",
    "!pip install torch\n",
    "!pip install pandas\n",
    "!pip install numpy"
   ]
  },
  {
   "cell_type": "code",
   "execution_count": 1,
   "metadata": {},
   "outputs": [],
   "source": [
    "# Basic imports\n",
    "import torch\n",
    "import torch.nn as nn\n",
    "import torch.nn.functional as F"
   ]
  },
  {
   "cell_type": "markdown",
   "metadata": {},
   "source": [
    "### Defining the model\n",
    "\n",
    "This class defines the model that is used in predictions.\n",
    "The model has two fully connected hidden layers and uses the sigmoid activation function."
   ]
  },
  {
   "cell_type": "code",
   "execution_count": 2,
   "metadata": {},
   "outputs": [],
   "source": [
    "# Inherits from nn.Module\n",
    "class NeuralNetwork(nn.Module):\n",
    "\n",
    "    # Input layers (x features) -> Hidden layer 1 (y neurons) -> Hidden layer 2 (z neurons) -> Output layers (n classes)\n",
    "\n",
    "    def __init__(self, input_features, hidden_layer1, hidden_layer2, output_features):\n",
    "        super().__init__()                                      # super() = nn.Module\n",
    "        self.fc1 = nn.Linear(input_features, hidden_layer1)     # fc = fully connected layer\n",
    "        self.fc2 = nn.Linear(hidden_layer1, hidden_layer2)      # fc = fully connected layer\n",
    "        self.out = nn.Linear(hidden_layer2, output_features)    # out = output layer\n",
    "\n",
    "    def forward(self, x):\n",
    "        x = self.fc1(x)\n",
    "        x = F.sigmoid(x)       # sigmoid = activation function\n",
    "        x = self.fc2(x)\n",
    "        x = F.sigmoid(x)       # sigmoid = activation function\n",
    "        x = self.out(x)\n",
    "        return x"
   ]
  },
  {
   "cell_type": "markdown",
   "metadata": {},
   "source": [
    "### Preparing the data for training\n",
    "\n",
    "In order to prepare the data for training, only the \"cp\" and \"im\" classes are included. (Because of the assignment)\n",
    "The first column of the data is a label column, that does not contain any that can be used in training. This column are removed.\n",
    "The classes \"cp\" and \"im\" are transformed into the numbers 0 and 1 respectivly."
   ]
  },
  {
   "cell_type": "code",
   "execution_count": 3,
   "metadata": {},
   "outputs": [
    {
     "data": {
      "text/html": [
       "<div>\n",
       "<style scoped>\n",
       "    .dataframe tbody tr th:only-of-type {\n",
       "        vertical-align: middle;\n",
       "    }\n",
       "\n",
       "    .dataframe tbody tr th {\n",
       "        vertical-align: top;\n",
       "    }\n",
       "\n",
       "    .dataframe thead th {\n",
       "        text-align: right;\n",
       "    }\n",
       "</style>\n",
       "<table border=\"1\" class=\"dataframe\">\n",
       "  <thead>\n",
       "    <tr style=\"text-align: right;\">\n",
       "      <th></th>\n",
       "      <th>1</th>\n",
       "      <th>2</th>\n",
       "      <th>3</th>\n",
       "      <th>4</th>\n",
       "      <th>5</th>\n",
       "      <th>6</th>\n",
       "      <th>7</th>\n",
       "      <th>8</th>\n",
       "    </tr>\n",
       "  </thead>\n",
       "  <tbody>\n",
       "    <tr>\n",
       "      <th>0</th>\n",
       "      <td>0.49</td>\n",
       "      <td>0.29</td>\n",
       "      <td>0.48</td>\n",
       "      <td>0.5</td>\n",
       "      <td>0.56</td>\n",
       "      <td>0.24</td>\n",
       "      <td>0.35</td>\n",
       "      <td>0</td>\n",
       "    </tr>\n",
       "    <tr>\n",
       "      <th>1</th>\n",
       "      <td>0.07</td>\n",
       "      <td>0.40</td>\n",
       "      <td>0.48</td>\n",
       "      <td>0.5</td>\n",
       "      <td>0.54</td>\n",
       "      <td>0.35</td>\n",
       "      <td>0.44</td>\n",
       "      <td>0</td>\n",
       "    </tr>\n",
       "    <tr>\n",
       "      <th>2</th>\n",
       "      <td>0.56</td>\n",
       "      <td>0.40</td>\n",
       "      <td>0.48</td>\n",
       "      <td>0.5</td>\n",
       "      <td>0.49</td>\n",
       "      <td>0.37</td>\n",
       "      <td>0.46</td>\n",
       "      <td>0</td>\n",
       "    </tr>\n",
       "    <tr>\n",
       "      <th>3</th>\n",
       "      <td>0.59</td>\n",
       "      <td>0.49</td>\n",
       "      <td>0.48</td>\n",
       "      <td>0.5</td>\n",
       "      <td>0.52</td>\n",
       "      <td>0.45</td>\n",
       "      <td>0.36</td>\n",
       "      <td>0</td>\n",
       "    </tr>\n",
       "    <tr>\n",
       "      <th>4</th>\n",
       "      <td>0.23</td>\n",
       "      <td>0.32</td>\n",
       "      <td>0.48</td>\n",
       "      <td>0.5</td>\n",
       "      <td>0.55</td>\n",
       "      <td>0.25</td>\n",
       "      <td>0.35</td>\n",
       "      <td>0</td>\n",
       "    </tr>\n",
       "  </tbody>\n",
       "</table>\n",
       "</div>"
      ],
      "text/plain": [
       "      1     2     3    4     5     6     7  8\n",
       "0  0.49  0.29  0.48  0.5  0.56  0.24  0.35  0\n",
       "1  0.07  0.40  0.48  0.5  0.54  0.35  0.44  0\n",
       "2  0.56  0.40  0.48  0.5  0.49  0.37  0.46  0\n",
       "3  0.59  0.49  0.48  0.5  0.52  0.45  0.36  0\n",
       "4  0.23  0.32  0.48  0.5  0.55  0.25  0.35  0"
      ]
     },
     "execution_count": 3,
     "metadata": {},
     "output_type": "execute_result"
    }
   ],
   "source": [
    "import pandas as pd\n",
    "\n",
    "# Read the data\n",
    "df = pd.read_csv('./data/ecoli.data', header=None, delim_whitespace=True)\n",
    "\n",
    "# We only want the data that are classified as 'cp' or 'im'\n",
    "included_classes = [\"cp\", \"im\"]\n",
    "\n",
    "# Exclude all classes (column 8) that are not 'cp' or 'im'\n",
    "df = df[df[8].isin(included_classes)]\n",
    "\n",
    "# Remove the first column (sequence name)\n",
    "df = df.drop(df.columns[0], axis=1) # axis=1 means column and axis=0 means row\n",
    "\n",
    "# Change the class names to numbers\n",
    "df = df.replace(\"cp\", 0)\n",
    "df = df.replace(\"im\", 1)\n",
    "\n",
    "\n",
    "# Print the first 5 rows\n",
    "df.head()"
   ]
  },
  {
   "cell_type": "code",
   "execution_count": 16,
   "metadata": {},
   "outputs": [],
   "source": [
    "from sklearn.model_selection import train_test_split\n",
    "\n",
    "# Here we want to drop the class column (column 7) from the data\n",
    "X = df.drop(df.columns[7], axis=1).values # axis=1 means column and axis=0 means row\n",
    "\n",
    "# Here we want to get the class column (column 7) from the data\n",
    "y = df[7].values\n",
    "\n",
    "# Split data into training and testing sets\n",
    "X_train, X_test, y_train, y_test = train_test_split(X, y, test_size=0.2)\n",
    "\n",
    "# Convert features into float tensors (PyTorch doesn't accept numpy arrays)\n",
    "X_train = torch.FloatTensor(X_train)\n",
    "X_test = torch.FloatTensor(X_test)\n",
    "\n",
    "# Convert labels into int tensors (PyTorch doesn't accept numpy arrays)\n",
    "y_train = torch.FloatTensor(y_train)\n",
    "y_test = torch.FloatTensor(y_test)\n"
   ]
  },
  {
   "cell_type": "markdown",
   "metadata": {},
   "source": [
    "### Training the model\n",
    "\n",
    "The model is instantiated with 7 input features (based on the dataset) and the two layers consists of eight neurons each.\n",
    "The number of output features are 1 (cp or im).\n",
    "\n",
    "Mean Square loss is used to measure the loss of the model.\n",
    "\n",
    "After trying different learning rates, the learning rate is set to 0.001."
   ]
  },
  {
   "cell_type": "code",
   "execution_count": 30,
   "metadata": {},
   "outputs": [],
   "source": [
    "# Pick a random seed for randomization\n",
    "torch.manual_seed(42)\n",
    "\n",
    "model = NeuralNetwork(input_features=7, hidden_layer1=8, hidden_layer2=8, output_features=1)\n",
    "\n",
    "# Model to measure error (how far the predictions are from the actual values)\n",
    "criterion = nn.MSELoss()\n",
    "\n",
    "optimizer = torch.optim.SGD(model.parameters(), lr=0.001)"
   ]
  },
  {
   "cell_type": "code",
   "execution_count": 31,
   "metadata": {},
   "outputs": [
    {
     "name": "stdout",
     "output_type": "stream",
     "text": [
      "Epoch: 0 Loss: 0.985592246055603\n",
      "Epoch: 10 Loss: 0.8855490684509277\n",
      "Epoch: 20 Loss: 0.7962624430656433\n",
      "Epoch: 30 Loss: 0.7165371179580688\n",
      "Epoch: 40 Loss: 0.645319402217865\n",
      "Epoch: 50 Loss: 0.5816780924797058\n",
      "Epoch: 60 Loss: 0.5247886776924133\n",
      "Epoch: 70 Loss: 0.47392067313194275\n",
      "Epoch: 80 Loss: 0.4284254312515259\n",
      "Epoch: 90 Loss: 0.3877270221710205\n",
      "Epoch: 100 Loss: 0.35131287574768066\n",
      "Epoch: 110 Loss: 0.31872692704200745\n",
      "Epoch: 120 Loss: 0.28956276178359985\n",
      "Epoch: 130 Loss: 0.2634579837322235\n",
      "Epoch: 140 Loss: 0.24008935689926147\n",
      "Epoch: 150 Loss: 0.2191683053970337\n",
      "Epoch: 160 Loss: 0.20043715834617615\n",
      "Epoch: 170 Loss: 0.18366575241088867\n",
      "Epoch: 180 Loss: 0.16864830255508423\n",
      "Epoch: 190 Loss: 0.15520086884498596\n",
      "Epoch: 200 Loss: 0.14315883815288544\n",
      "Epoch: 210 Loss: 0.13237518072128296\n",
      "Epoch: 220 Loss: 0.12271815538406372\n",
      "Epoch: 230 Loss: 0.11406990885734558\n",
      "Epoch: 240 Loss: 0.10632503032684326\n",
      "Epoch: 250 Loss: 0.09938913583755493\n",
      "Epoch: 260 Loss: 0.09317769855260849\n",
      "Epoch: 270 Loss: 0.08761503547430038\n",
      "Epoch: 280 Loss: 0.08263342082500458\n",
      "Epoch: 290 Loss: 0.07817211747169495\n",
      "Epoch: 300 Loss: 0.07417687773704529\n",
      "Epoch: 310 Loss: 0.0705990269780159\n",
      "Epoch: 320 Loss: 0.06739499419927597\n",
      "Epoch: 330 Loss: 0.06452573835849762\n",
      "Epoch: 340 Loss: 0.061956293880939484\n",
      "Epoch: 350 Loss: 0.05965537950396538\n",
      "Epoch: 360 Loss: 0.057594940066337585\n",
      "Epoch: 370 Loss: 0.05574986711144447\n",
      "Epoch: 380 Loss: 0.054097678512334824\n",
      "Epoch: 390 Loss: 0.05261821299791336\n",
      "Epoch: 400 Loss: 0.05129344016313553\n",
      "Epoch: 410 Loss: 0.050107192248106\n",
      "Epoch: 420 Loss: 0.04904501140117645\n",
      "Epoch: 430 Loss: 0.04809391871094704\n",
      "Epoch: 440 Loss: 0.047242313623428345\n",
      "Epoch: 450 Loss: 0.04647979140281677\n",
      "Epoch: 460 Loss: 0.045797038823366165\n",
      "Epoch: 470 Loss: 0.04518572613596916\n",
      "Epoch: 480 Loss: 0.04463837668299675\n",
      "Epoch: 490 Loss: 0.04414830356836319\n",
      "Epoch: 500 Loss: 0.04370953142642975\n",
      "Epoch: 510 Loss: 0.04331668093800545\n",
      "Epoch: 520 Loss: 0.04296494275331497\n",
      "Epoch: 530 Loss: 0.042650021612644196\n",
      "Epoch: 540 Loss: 0.04236806556582451\n",
      "Epoch: 550 Loss: 0.042115647345781326\n",
      "Epoch: 560 Loss: 0.04188964515924454\n",
      "Epoch: 570 Loss: 0.041687313467264175\n",
      "Epoch: 580 Loss: 0.04150615632534027\n",
      "Epoch: 590 Loss: 0.04134397953748703\n",
      "Epoch: 600 Loss: 0.04119878262281418\n",
      "Epoch: 610 Loss: 0.04106878861784935\n",
      "Epoch: 620 Loss: 0.0409524142742157\n",
      "Epoch: 630 Loss: 0.040848229080438614\n",
      "Epoch: 640 Loss: 0.040754951536655426\n",
      "Epoch: 650 Loss: 0.040671456605196\n",
      "Epoch: 660 Loss: 0.040596697479486465\n",
      "Epoch: 670 Loss: 0.0405297689139843\n",
      "Epoch: 680 Loss: 0.040469858795404434\n",
      "Epoch: 690 Loss: 0.04041622206568718\n",
      "Epoch: 700 Loss: 0.040368203073740005\n",
      "Epoch: 710 Loss: 0.04032522067427635\n",
      "Epoch: 720 Loss: 0.04028673842549324\n",
      "Epoch: 730 Loss: 0.040252286940813065\n",
      "Epoch: 740 Loss: 0.0402214452624321\n",
      "Epoch: 750 Loss: 0.0401938371360302\n",
      "Epoch: 760 Loss: 0.0401691235601902\n",
      "Epoch: 770 Loss: 0.040147002786397934\n",
      "Epoch: 780 Loss: 0.04012719541788101\n",
      "Epoch: 790 Loss: 0.040109459310770035\n",
      "Epoch: 800 Loss: 0.04009358957409859\n",
      "Epoch: 810 Loss: 0.040079377591609955\n",
      "Epoch: 820 Loss: 0.040066659450531006\n",
      "Epoch: 830 Loss: 0.04005527123808861\n",
      "Epoch: 840 Loss: 0.040045078843832016\n",
      "Epoch: 850 Loss: 0.040035948157310486\n",
      "Epoch: 860 Loss: 0.04002778232097626\n",
      "Epoch: 870 Loss: 0.04002046957612038\n",
      "Epoch: 880 Loss: 0.04001392424106598\n",
      "Epoch: 890 Loss: 0.0400080606341362\n",
      "Epoch: 900 Loss: 0.040002819150686264\n",
      "Epoch: 910 Loss: 0.039998121559619904\n",
      "Epoch: 920 Loss: 0.03999391570687294\n",
      "Epoch: 930 Loss: 0.039990153163671494\n",
      "Epoch: 940 Loss: 0.039986785501241684\n",
      "Epoch: 950 Loss: 0.03998376801609993\n",
      "Epoch: 960 Loss: 0.039981067180633545\n",
      "Epoch: 970 Loss: 0.03997864946722984\n",
      "Epoch: 980 Loss: 0.039976488798856735\n",
      "Epoch: 990 Loss: 0.039974551647901535\n"
     ]
    }
   ],
   "source": [
    "epochs = 1000\n",
    "\n",
    "losses = []\n",
    "\n",
    "\n",
    "for epoch in range(epochs):\n",
    "\n",
    "    # For each epoch, we want to get the predicted y values\n",
    "    pred = model.forward(X_train)\n",
    "\n",
    "    # Calculate the loss/error\n",
    "    loss = criterion(pred, y_train)\n",
    "\n",
    "    # Store the loss/error\n",
    "    losses.append(loss)\n",
    "\n",
    "    if epoch % 10 == 0:\n",
    "        print(f'Epoch: {epoch} Loss: {loss}')\n",
    "\n",
    "    # Backpropagation\n",
    "    optimizer.zero_grad()\n",
    "    loss.backward()\n",
    "    optimizer.step()"
   ]
  },
  {
   "cell_type": "code",
   "execution_count": 32,
   "metadata": {},
   "outputs": [
    {
     "data": {
      "text/plain": [
       "Text(0.5, 0, 'Epoch')"
      ]
     },
     "execution_count": 32,
     "metadata": {},
     "output_type": "execute_result"
    },
    {
     "data": {
      "image/png": "[encoded data removed]",
      "text/plain": [
       "<Figure size 640x480 with 1 Axes>"
      ]
     },
     "metadata": {},
     "output_type": "display_data"
    }
   ],
   "source": [
    "import matplotlib.pyplot as plt\n",
    "%matplotlib inline\n",
    "\n",
    "losses_as_numbers = [loss.item() for loss in losses]\n",
    "\n",
    "plt.plot(range(epochs), losses_as_numbers)\n",
    "plt.ylabel('Loss')\n",
    "plt.xlabel('Epoch')"
   ]
  },
  {
   "cell_type": "code",
   "execution_count": 34,
   "metadata": {},
   "outputs": [
    {
     "name": "stdout",
     "output_type": "stream",
     "text": [
      "Loss: 0.046323683112859726\n"
     ]
    }
   ],
   "source": [
    "# Evaluate the model accuracy\n",
    "with torch.no_grad(): # Turn of backpropagation so that evaluation does not affect the model\n",
    "    y_eval = model.forward(X_test) # Get the predicted y values\n",
    "    loss = criterion(y_eval, y_test) # Calculate the loss/error\n",
    "\n",
    "print(f'Loss: {loss}')"
   ]
  }
 ],
 "metadata": {
  "kernelspec": {
   "display_name": "Python 3",
   "language": "python",
   "name": "python3"
  },
  "language_info": {
   "codemirror_mode": {
    "name": "ipython",
    "version": 3
   },
   "file_extension": ".py",
   "mimetype": "text/x-python",
   "name": "python",
   "nbconvert_exporter": "python",
   "pygments_lexer": "ipython3",
   "version": "3.10.11"
  }
 },
 "nbformat": 4,
 "nbformat_minor": 2
}
