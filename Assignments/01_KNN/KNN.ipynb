{
 "cells": [
  {
   "cell_type": "code",
   "execution_count": 2,
   "id": "initial_id",
   "metadata": {
    "collapsed": true,
    "is_executing": true
   },
   "outputs": [],
   "source": [
    "import numpy\n",
    "\n",
    "# Load the dataset\n",
    "dataset = numpy.loadtxt(\"data/pima-indians-diabetes.csv\", delimiter=\",\")\n",
    "\n",
    "split_ratio = 0.8\n",
    "\n",
    "# split into input (X) and output (Y) variables\n",
    "X_train = dataset[:int(len(dataset)*split_ratio),0:8]\n",
    "X_val = dataset[int(len(dataset)*split_ratio):,0:8]\n",
    "\n",
    "Y_train = dataset[:int(len(dataset)*split_ratio),8]\n",
    "Y_val = dataset[int(len(dataset)*split_ratio):,8]\n",
    "\n",
    "# print(X_train)\n",
    "# print(Y_train)"
   ]
  },
  {
   "cell_type": "code",
   "execution_count": 3,
   "id": "34cb00c2d56f8fac",
   "metadata": {
    "collapsed": false
   },
   "outputs": [
    {
     "name": "stdout",
     "output_type": "stream",
     "text": [
      "0.7142857142857143\n"
     ]
    }
   ],
   "source": [
    "from KNNClassifier import KNNClassifier\n",
    "\n",
    "# Create a new KNN Classifier\n",
    "\n",
    "classifier = KNNClassifier(k = 25)\n",
    "\n",
    "# Fit the training data\n",
    "classifier.fit(x_train=X_train, y_train=Y_train)\n",
    "\n",
    "# Do some predictions\n",
    "predictions = classifier.predict(X_val)\n",
    "\n",
    "accuracy = numpy.sum(predictions == Y_val) / len(predictions)\n",
    "\n",
    "print(accuracy)"
   ]
  },
  {
   "cell_type": "code",
   "execution_count": 4,
   "id": "9b910cd9",
   "metadata": {},
   "outputs": [],
   "source": [
    "from KNNClassifier import KNNClassifier\n",
    "\n",
    "number_of_k = 100\n",
    "\n",
    "results = []\n",
    "\n",
    "for k in range(1, number_of_k):\n",
    "    classifier = KNNClassifier(k = k)\n",
    "    classifier.fit(x_train=X_train, y_train=Y_train)\n",
    "    predictions = classifier.predict(X_val)\n",
    "    accuracy = numpy.sum(predictions == Y_val) / len(predictions)\n",
    "    results.append((\"eucledian\", k, accuracy, None))\n",
    "\n",
    "\n",
    "for k in range(1, number_of_k):\n",
    "    classifier = KNNClassifier(k = k)\n",
    "    classifier.fit(x_train=X_train, y_train=Y_train)\n",
    "    predictions = classifier.predict(X_val, distance_type=\"manhattan\")\n",
    "    accuracy = numpy.sum(predictions == Y_val) / len(predictions)\n",
    "    results.append((\"manhattan\", k, accuracy, None))\n",
    "\n",
    "\n",
    "for k in range(1, number_of_k):\n",
    "    classifier = KNNClassifier(k = k)\n",
    "    classifier.fit(x_train=X_train, y_train=Y_train)\n",
    "    predictions = classifier.predict(X_val, distance_type=\"minkowski\", p=3)\n",
    "    accuracy = numpy.sum(predictions == Y_val) / len(predictions)\n",
    "    results.append((\"minkowski\", k, accuracy, 3))\n",
    "    \n",
    "\n",
    "for k in range(1, number_of_k):\n",
    "    classifier = KNNClassifier(k = k)\n",
    "    classifier.fit(x_train=X_train, y_train=Y_train)\n",
    "    predictions = classifier.predict(X_val, distance_type=\"minkowski\", p=4)\n",
    "    accuracy = numpy.sum(predictions == Y_val) / len(predictions)\n",
    "    results.append((\"minkowski\", k, accuracy, 4))\n",
    "\n",
    "\n",
    "for k in range(1, number_of_k):\n",
    "    classifier = KNNClassifier(k = k)\n",
    "    classifier.fit(x_train=X_train, y_train=Y_train)\n",
    "    predictions = classifier.predict(X_val, distance_type=\"minkowski\", p=5)\n",
    "    accuracy = numpy.sum(predictions == Y_val) / len(predictions)\n",
    "    results.append((\"minkowski\", k, accuracy, 5))\n",
    "\n",
    "for k in range(1, number_of_k):\n",
    "    classifier = KNNClassifier(k = k)\n",
    "    classifier.fit(x_train=X_train, y_train=Y_train)\n",
    "    predictions = classifier.predict(X_val, distance_type=\"minkowski\", p=10)\n",
    "    accuracy = numpy.sum(predictions == Y_val) / len(predictions)\n",
    "    results.append((\"minkowski\", k, accuracy, 10))\n",
    "\n",
    "for k in range(1, number_of_k):\n",
    "    classifier = KNNClassifier(k = k)\n",
    "    classifier.fit(x_train=X_train, y_train=Y_train)\n",
    "    predictions = classifier.predict(X_val, distance_type=\"minkowski\", p=20)\n",
    "    accuracy = numpy.sum(predictions == Y_val) / len(predictions)\n",
    "    results.append((\"minkowski\", k, accuracy, 20))"
   ]
  },
  {
   "cell_type": "code",
   "execution_count": 1,
   "id": "7d8f9ee5",
   "metadata": {},
   "outputs": [
    {
     "ename": "NameError",
     "evalue": "name 'results' is not defined",
     "output_type": "error",
     "traceback": [
      "\u001b[1;31m---------------------------------------------------------------------------\u001b[0m",
      "\u001b[1;31mNameError\u001b[0m                                 Traceback (most recent call last)",
      "\u001b[1;32md:\\Repositories\\IKT450-Deep-Neural-Networks\\Assignments\\01_KNN\\KNN.ipynb Cell 4\u001b[0m line \u001b[0;36m3\n\u001b[0;32m      <a href='vscode-notebook-cell:/d%3A/Repositories/IKT450-Deep-Neural-Networks/Assignments/01_KNN/KNN.ipynb#W3sZmlsZQ%3D%3D?line=0'>1</a>\u001b[0m \u001b[39m# Find the best results for each of the distance types\u001b[39;00m\n\u001b[1;32m----> <a href='vscode-notebook-cell:/d%3A/Repositories/IKT450-Deep-Neural-Networks/Assignments/01_KNN/KNN.ipynb#W3sZmlsZQ%3D%3D?line=2'>3</a>\u001b[0m eucledian_results \u001b[39m=\u001b[39m [result \u001b[39mfor\u001b[39;00m result \u001b[39min\u001b[39;00m results \u001b[39mif\u001b[39;00m result[\u001b[39m0\u001b[39m] \u001b[39m==\u001b[39m \u001b[39m\"\u001b[39m\u001b[39meucledian\u001b[39m\u001b[39m\"\u001b[39m]\n\u001b[0;32m      <a href='vscode-notebook-cell:/d%3A/Repositories/IKT450-Deep-Neural-Networks/Assignments/01_KNN/KNN.ipynb#W3sZmlsZQ%3D%3D?line=3'>4</a>\u001b[0m manhattan_results \u001b[39m=\u001b[39m [result \u001b[39mfor\u001b[39;00m result \u001b[39min\u001b[39;00m results \u001b[39mif\u001b[39;00m result[\u001b[39m0\u001b[39m] \u001b[39m==\u001b[39m \u001b[39m\"\u001b[39m\u001b[39mmanhattan\u001b[39m\u001b[39m\"\u001b[39m]\n\u001b[0;32m      <a href='vscode-notebook-cell:/d%3A/Repositories/IKT450-Deep-Neural-Networks/Assignments/01_KNN/KNN.ipynb#W3sZmlsZQ%3D%3D?line=4'>5</a>\u001b[0m minkowski_3_results \u001b[39m=\u001b[39m [result \u001b[39mfor\u001b[39;00m result \u001b[39min\u001b[39;00m results \u001b[39mif\u001b[39;00m result[\u001b[39m0\u001b[39m] \u001b[39m==\u001b[39m \u001b[39m\"\u001b[39m\u001b[39mminkowski\u001b[39m\u001b[39m\"\u001b[39m \u001b[39mand\u001b[39;00m result[\u001b[39m3\u001b[39m] \u001b[39m==\u001b[39m \u001b[39m3\u001b[39m]\n",
      "\u001b[1;31mNameError\u001b[0m: name 'results' is not defined"
     ]
    }
   ],
   "source": [
    "# Find the best results for each of the distance types\n",
    "\n",
    "eucledian_results = [result for result in results if result[0] == \"eucledian\"]\n",
    "manhattan_results = [result for result in results if result[0] == \"manhattan\"]\n",
    "minkowski_3_results = [result for result in results if result[0] == \"minkowski\" and result[3] == 3]\n",
    "minkowski_4_results = [result for result in results if result[0] == \"minkowski\" and result[3] == 4]\n",
    "minkowski_5_results = [result for result in results if result[0] == \"minkowski\" and result[3] == 5]\n",
    "minkowski_10_results = [result for result in results if result[0] == \"minkowski\" and result[3] == 10]\n",
    "minkowski_20_results = [result for result in results if result[0] == \"minkowski\" and result[3] == 20]\n",
    "\n",
    "max_element = max(eucledian_results, key=lambda x: x[2])\n",
    "print(max_element)\n",
    "\n",
    "max_element = max(manhattan_results, key=lambda x: x[2])\n",
    "print(max_element)\n",
    "\n",
    "max_element = max(minkowski_3_results, key=lambda x: x[2])\n",
    "print(max_element)\n",
    "\n",
    "max_element = max(minkowski_5_results, key=lambda x: x[2])\n",
    "print(max_element)\n",
    "\n",
    "max_element = max(minkowski_10_results, key=lambda x: x[2])\n",
    "print(max_element)\n",
    "\n",
    "max_element = max(minkowski_20_results, key=lambda x: x[2])\n",
    "print(max_element)\n"
   ]
  }
 ],
 "metadata": {
  "kernelspec": {
   "display_name": "Python 3",
   "language": "python",
   "name": "python3"
  },
  "language_info": {
   "codemirror_mode": {
    "name": "ipython",
    "version": 3
   },
   "file_extension": ".py",
   "mimetype": "text/x-python",
   "name": "python",
   "nbconvert_exporter": "python",
   "pygments_lexer": "ipython3",
   "version": "3.10.11"
  }
 },
 "nbformat": 4,
 "nbformat_minor": 5
}
