{
 "cells": [
  {
   "cell_type": "code",
   "execution_count": null,
   "metadata": {},
   "outputs": [],
   "source": [
    "!pip install ultralytics"
   ]
  },
  {
   "cell_type": "code",
   "execution_count": null,
   "metadata": {},
   "outputs": [],
   "source": [
    "from ultralytics import YOLO\n",
    "\n",
    "# Load a model\n",
    "model = YOLO(\"runs/classify/train5/weights/best.pt\")\n",
    "\n",
    "# Test on a directory of images\n",
    "results = model.val(data=\"processed\", plots=True, batch=1)\n",
    "\n",
    "#Ultralytics YOLOv8.0.220 🚀 Python-3.10.12 torch-2.1.0a0+32f93b1 CUDA:0 (Tesla V100-SXM3-32GB, 32501MiB)\n",
    "#YOLOv8n-cls summary (fused): 73 layers, 1441285 parameters, 0 gradients, 3.3 GFLOPs\n",
    "#train: /home/kjellh14/Project/processed/train... found 10000 images in 5 classes ✅ \n",
    "#val: /home/kjellh14/Project/processed/val... found 24971 images in 5 classes ✅ \n",
    "#test: None...\n",
    "#val: Scanning /home/kjellh14/Project/processed/val... 24971 images, 0 corrupt: 100%|██████████| 24971/24971 #[00:13<00:00, 1909.44it/s]\n",
    "#val: New cache created: /home/kjellh14/Project/processed/val.cache\n",
    "#               classes   top1_acc   top5_acc: 100%|██████████| 24971/24971 [16:14<00:00, 25.63it/s]\n",
    "#                   all      0.997          1\n",
    "#Speed: 0.7ms preprocess, 16.1ms inference, 0.1ms loss, 0.1ms postprocess per image\n",
    "#Results saved to runs/classify/val9"
   ]
  }
 ],
 "metadata": {
  "language_info": {
   "name": "python"
  }
 },
 "nbformat": 4,
 "nbformat_minor": 2
}
