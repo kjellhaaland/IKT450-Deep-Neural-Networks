{
 "cells": [
  {
   "cell_type": "code",
   "execution_count": 5,
   "metadata": {},
   "outputs": [
    {
     "name": "stdout",
     "output_type": "stream",
     "text": [
      "5\n",
      "Accuracy: 77.50%\n",
      "Actual classes: [1, 1, 1, 1, 1, 1, 1, 1, 1, 1, 1, 1, 1, 1, 1, 1, 1, 1, 1, 1, 1, 1, 1, 1, 1, 1, 1, 1, 1, 1, 1, 1, 1, 1, 1, 1, 1, 1, 1, 1, 2, 2, 2, 2, 2, 2, 2, 2, 2, 2, 2, 2, 2, 2, 2, 2, 2, 2, 2, 2, 2, 2, 2, 2, 2, 2, 2, 2, 2, 2, 2, 2, 2, 2, 2, 2, 2, 2, 2, 2, 3, 3, 3, 3, 3, 3, 3, 3, 3, 3, 3, 3, 3, 3, 3, 3, 3, 3, 3, 3, 3, 3, 3, 3, 3, 3, 3, 3, 3, 3, 3, 3, 3, 3, 3, 3, 3, 3, 3, 3, 4, 4, 4, 4, 4, 4, 4, 4, 4, 4, 4, 4, 4, 4, 4, 4, 4, 4, 4, 4, 4, 4, 4, 4, 4, 4, 4, 4, 4, 4, 4, 4, 4, 4, 4, 4, 4, 4, 4, 4, 5, 5, 5, 5, 5, 5, 5, 5, 5, 5, 5, 5, 5, 5, 5, 5, 5, 5, 5, 5, 5, 5, 5, 5, 5, 5, 5, 5, 5, 5, 5, 5, 5, 5, 5, 5, 5, 5, 5, 5]\n",
      "Predicted classes: [1, 3, 3, 1, 5, 3, 2, 5, 5, 1, 3, 1, 3, 1, 1, 2, 1, 1, 5, 1, 1, 1, 2, 3, 2, 1, 1, 3, 1, 2, 2, 2, 2, 1, 1, 1, 1, 2, 1, 2, 2, 4, 2, 2, 2, 2, 2, 2, 2, 2, 2, 2, 2, 2, 2, 2, 2, 2, 2, 2, 2, 2, 2, 2, 2, 2, 2, 2, 2, 2, 5, 2, 2, 2, 2, 2, 2, 2, 2, 2, 3, 2, 3, 3, 3, 3, 3, 2, 3, 1, 2, 3, 3, 3, 3, 3, 3, 3, 3, 3, 3, 3, 3, 3, 3, 3, 3, 3, 3, 3, 3, 3, 1, 2, 3, 3, 3, 3, 3, 3, 4, 4, 4, 2, 4, 5, 2, 4, 2, 4, 2, 4, 4, 4, 4, 4, 2, 2, 2, 2, 3, 2, 2, 4, 4, 2, 2, 4, 4, 4, 4, 4, 4, 4, 4, 4, 2, 4, 2, 4, 5, 5, 5, 5, 5, 5, 5, 5, 5, 5, 5, 5, 5, 5, 5, 5, 5, 5, 5, 5, 5, 5, 5, 5, 5, 5, 5, 5, 5, 5, 5, 5, 5, 5, 5, 5, 5, 5, 5, 5]\n"
     ]
    }
   ],
   "source": [
    "import torch\n",
    "import numpy as np\n",
    "import os\n",
    "from skimage import io\n",
    "from torchvision import transforms\n",
    "from FishModel import FishModel\n",
    "\n",
    "\n",
    "transform = transforms.Resize((256, 256))\n",
    "\n",
    "model = FishModel(out_features=1024)\n",
    "model.load_state_dict(torch.load('Models/best.pt', map_location=torch.device('cpu')))\n",
    "model.to(\"cpu\")\n",
    "\n",
    "embeddings = []\n",
    "\n",
    "for file in os.listdir(\"Images/References\"):\n",
    "    img = io.imread(os.path.join(\"Images/References\", file))\n",
    "    img = torch.from_numpy(img).permute(2,0,1) / 255.0\n",
    "    img = transform(img).unsqueeze(0)\n",
    "\n",
    "    # Get the embeddings\n",
    "    emb = model(img)\n",
    "\n",
    "    embeddings.append(emb.detach().numpy())\n",
    "\n",
    "correct = 0\n",
    "total = 0\n",
    "\n",
    "print(len(embeddings))\n",
    "\n",
    "actual_classes = []\n",
    "predicted_classes = []\n",
    "\n",
    "# For each file in the \"Images/Test\" folder, predict the class\n",
    "for file in os.listdir(\"Images/Validationset\"):\n",
    "    img = io.imread(os.path.join(\"Images/Validationset\", file))\n",
    "    img = torch.from_numpy(img).permute(2,0,1) / 255.0\n",
    "    img = transform(img).unsqueeze(0)\n",
    "\n",
    "    # Get the embeddings\n",
    "    emb = model(img)\n",
    "\n",
    "    # Calculate the euclidean distance between the embeddings of the test image and the reference images\n",
    "    distances = [np.linalg.norm(emb.detach().numpy() - e) for e in embeddings]\n",
    "\n",
    "    # Get the index of the reference image with the smallest distance\n",
    "    pred = np.argmin(distances)\n",
    "\n",
    "    #print(distances)\n",
    "\n",
    "    # Get the class of the reference image\n",
    "    pred_class = pred + 1\n",
    "    \n",
    "    # Get the class of the test image\n",
    "    actual_class = int(file.split(\"_\")[0])\n",
    "\n",
    "    # If the predicted class is the same as the actual class, increment the correct counter\n",
    "    if pred_class == actual_class:\n",
    "        correct += 1\n",
    "\n",
    "    total += 1\n",
    "\n",
    "    actual_classes.append(actual_class)\n",
    "    predicted_classes.append(pred_class)\n",
    "\n",
    "    # print(f\"Predicted class: {pred +1 }, Distance: {distances}, File: {file}\")\n",
    "\n",
    "print(f\"Accuracy: {correct/total * 100:.2f}%\")\n",
    "print(f\"Actual classes: {actual_classes}\")\n",
    "print(f\"Predicted classes: {predicted_classes}\")"
   ]
  },
  {
   "cell_type": "code",
   "execution_count": 10,
   "metadata": {},
   "outputs": [
    {
     "data": {
      "image/png": "[encoded data removed]",
      "text/plain": [
       "<Figure size 640x480 with 2 Axes>"
      ]
     },
     "metadata": {},
     "output_type": "display_data"
    }
   ],
   "source": [
    "from sklearn.metrics import confusion_matrix\n",
    "import seaborn\n",
    "\n",
    "matrix = confusion_matrix(actual_classes, predicted_classes)\n",
    "\n",
    "heatmap = seaborn.heatmap(matrix, annot=True, fmt='g', cmap='Blues')\n",
    "\n",
    "figure = heatmap.get_figure()\n",
    "figure.savefig(\"cm_efficientnet_v2_validationset_2new.png\", dpi=400)"
   ]
  },
  {
   "cell_type": "code",
   "execution_count": null,
   "metadata": {},
   "outputs": [],
   "source": [
    "# Plot the training loss and validation loss stored in loss.txt on the format (training loss, validation loss)\n",
    "import matplotlib.pyplot as plt\n",
    "\n",
    "with open(\"loss.txt\", \"r\") as f:\n",
    "    lines = f.readlines()\n",
    "\n",
    "lines = [line.split(\",\") for line in lines]\n",
    "\n",
    "training_losses = [float(loss[0]) for loss in lines]\n",
    "validation_losses = [float(loss[1]) for loss in lines]\n",
    "\n",
    "plt.plot(training_losses, label=\"Training loss\")\n",
    "\n",
    "plt.plot(validation_losses, label=\"Validation loss\")\n",
    "\n",
    "plt.legend()\n",
    "\n",
    "#plt.savefig(\"loss_efficientnet.png\", dpi=400)\n",
    "\n",
    "plt.show()"
   ]
  }
 ],
 "metadata": {
  "kernelspec": {
   "display_name": "Python 3",
   "language": "python",
   "name": "python3"
  },
  "language_info": {
   "codemirror_mode": {
    "name": "ipython",
    "version": 3
   },
   "file_extension": ".py",
   "mimetype": "text/x-python",
   "name": "python",
   "nbconvert_exporter": "python",
   "pygments_lexer": "ipython3",
   "version": "3.10.11"
  }
 },
 "nbformat": 4,
 "nbformat_minor": 2
}
